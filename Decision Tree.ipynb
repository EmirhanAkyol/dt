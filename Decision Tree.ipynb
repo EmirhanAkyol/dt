{
 "cells": [
  {
   "cell_type": "code",
   "execution_count": 1,
   "metadata": {},
   "outputs": [],
   "source": [
    "import pandas as pd\n",
    "import numpy as np\n",
    "from sklearn.model_selection import train_test_split\n",
    "from sklearn.preprocessing import StandardScaler\n",
    "from sklearn.neighbors import KNeighborsClassifier\n",
    "from sklearn.metrics import confusion_matrix\n",
    "from sklearn.metrics import f1_score\n",
    "from sklearn.metrics import classification_report\n",
    "from sklearn.metrics import accuracy_score\n",
    "from sklearn.tree import DecisionTreeClassifier\n",
    "from sklearn import metrics"
   ]
  },
  {
   "cell_type": "code",
   "execution_count": 2,
   "metadata": {},
   "outputs": [],
   "source": [
    "df = pd.read_csv(\"birlesmis_gyro_watch.txt\")"
   ]
  },
  {
   "cell_type": "code",
   "execution_count": 3,
   "metadata": {},
   "outputs": [
    {
     "data": {
      "text/html": [
       "<div>\n",
       "<style scoped>\n",
       "    .dataframe tbody tr th:only-of-type {\n",
       "        vertical-align: middle;\n",
       "    }\n",
       "\n",
       "    .dataframe tbody tr th {\n",
       "        vertical-align: top;\n",
       "    }\n",
       "\n",
       "    .dataframe thead th {\n",
       "        text-align: right;\n",
       "    }\n",
       "</style>\n",
       "<table border=\"1\" class=\"dataframe\">\n",
       "  <thead>\n",
       "    <tr style=\"text-align: right;\">\n",
       "      <th></th>\n",
       "      <th>Subject_id</th>\n",
       "      <th>Activity_label</th>\n",
       "      <th>Time_stamp</th>\n",
       "      <th>x</th>\n",
       "      <th>y</th>\n",
       "      <th>z</th>\n",
       "    </tr>\n",
       "  </thead>\n",
       "  <tbody>\n",
       "    <tr>\n",
       "      <th>0</th>\n",
       "      <td>1600</td>\n",
       "      <td>A</td>\n",
       "      <td>90426757696641</td>\n",
       "      <td>0.314944</td>\n",
       "      <td>-1.022277</td>\n",
       "      <td>-0.309962</td>\n",
       "    </tr>\n",
       "    <tr>\n",
       "      <th>1</th>\n",
       "      <td>1600</td>\n",
       "      <td>A</td>\n",
       "      <td>90426807196641</td>\n",
       "      <td>0.387382</td>\n",
       "      <td>-0.618541</td>\n",
       "      <td>-0.048972</td>\n",
       "    </tr>\n",
       "    <tr>\n",
       "      <th>2</th>\n",
       "      <td>1600</td>\n",
       "      <td>A</td>\n",
       "      <td>90426856696641</td>\n",
       "      <td>0.070999</td>\n",
       "      <td>-0.209480</td>\n",
       "      <td>-0.195978</td>\n",
       "    </tr>\n",
       "    <tr>\n",
       "      <th>3</th>\n",
       "      <td>1600</td>\n",
       "      <td>A</td>\n",
       "      <td>90426906196641</td>\n",
       "      <td>0.037975</td>\n",
       "      <td>0.254976</td>\n",
       "      <td>-0.156563</td>\n",
       "    </tr>\n",
       "    <tr>\n",
       "      <th>4</th>\n",
       "      <td>1600</td>\n",
       "      <td>A</td>\n",
       "      <td>90426955696641</td>\n",
       "      <td>0.073129</td>\n",
       "      <td>0.719431</td>\n",
       "      <td>-0.001035</td>\n",
       "    </tr>\n",
       "  </tbody>\n",
       "</table>\n",
       "</div>"
      ],
      "text/plain": [
       "   Subject_id Activity_label      Time_stamp         x         y         z\n",
       "0        1600              A  90426757696641  0.314944 -1.022277 -0.309962\n",
       "1        1600              A  90426807196641  0.387382 -0.618541 -0.048972\n",
       "2        1600              A  90426856696641  0.070999 -0.209480 -0.195978\n",
       "3        1600              A  90426906196641  0.037975  0.254976 -0.156563\n",
       "4        1600              A  90426955696641  0.073129  0.719431 -0.001035"
      ]
     },
     "execution_count": 3,
     "metadata": {},
     "output_type": "execute_result"
    }
   ],
   "source": [
    "df.head()"
   ]
  },
  {
   "cell_type": "code",
   "execution_count": 4,
   "metadata": {},
   "outputs": [],
   "source": [
    "df['x']=((df['x']-df['x'].min())/(df['x'].max()-df['x'].min()))  \n",
    "df['y']=((df['y']-df['y'].min())/(df['y'].max()-df['y'].min()))   \n",
    "df['z']=((df['z']-df['z'].min())/(df['z'].max()-df['z'].min()))"
   ]
  },
  {
   "cell_type": "code",
   "execution_count": 5,
   "metadata": {},
   "outputs": [],
   "source": [
    "df.to_csv(\"birlesmis_gyro_s_watch.txt\", index=False)"
   ]
  },
  {
   "cell_type": "code",
   "execution_count": 6,
   "metadata": {},
   "outputs": [],
   "source": [
    "new_df = pd.read_csv(\"birlesmis_gyro_s_watch.txt\")"
   ]
  },
  {
   "cell_type": "code",
   "execution_count": 7,
   "metadata": {},
   "outputs": [
    {
     "data": {
      "text/html": [
       "<div>\n",
       "<style scoped>\n",
       "    .dataframe tbody tr th:only-of-type {\n",
       "        vertical-align: middle;\n",
       "    }\n",
       "\n",
       "    .dataframe tbody tr th {\n",
       "        vertical-align: top;\n",
       "    }\n",
       "\n",
       "    .dataframe thead th {\n",
       "        text-align: right;\n",
       "    }\n",
       "</style>\n",
       "<table border=\"1\" class=\"dataframe\">\n",
       "  <thead>\n",
       "    <tr style=\"text-align: right;\">\n",
       "      <th></th>\n",
       "      <th>Subject_id</th>\n",
       "      <th>Time_stamp</th>\n",
       "      <th>x</th>\n",
       "      <th>y</th>\n",
       "      <th>z</th>\n",
       "    </tr>\n",
       "  </thead>\n",
       "  <tbody>\n",
       "    <tr>\n",
       "      <th>0.01</th>\n",
       "      <td>1600.0</td>\n",
       "      <td>3.280624e+12</td>\n",
       "      <td>0.425663</td>\n",
       "      <td>0.430248</td>\n",
       "      <td>0.561449</td>\n",
       "    </tr>\n",
       "    <tr>\n",
       "      <th>0.99</th>\n",
       "      <td>1650.0</td>\n",
       "      <td>2.722071e+15</td>\n",
       "      <td>0.568319</td>\n",
       "      <td>0.566072</td>\n",
       "      <td>0.736185</td>\n",
       "    </tr>\n",
       "  </tbody>\n",
       "</table>\n",
       "</div>"
      ],
      "text/plain": [
       "      Subject_id    Time_stamp         x         y         z\n",
       "0.01      1600.0  3.280624e+12  0.425663  0.430248  0.561449\n",
       "0.99      1650.0  2.722071e+15  0.568319  0.566072  0.736185"
      ]
     },
     "execution_count": 7,
     "metadata": {},
     "output_type": "execute_result"
    }
   ],
   "source": [
    "low=0.01\n",
    "high=0.99\n",
    "new_df.quantile([low,high])"
   ]
  },
  {
   "cell_type": "code",
   "execution_count": 8,
   "metadata": {},
   "outputs": [],
   "source": [
    "qdf=new_df.quantile([low,high])"
   ]
  },
  {
   "cell_type": "code",
   "execution_count": 9,
   "metadata": {},
   "outputs": [
    {
     "data": {
      "text/plain": [
       "Subject_id        0\n",
       "Activity_label    0\n",
       "Time_stamp        0\n",
       "x                 0\n",
       "y                 0\n",
       "z                 0\n",
       "dtype: int64"
      ]
     },
     "execution_count": 9,
     "metadata": {},
     "output_type": "execute_result"
    }
   ],
   "source": [
    "new_df.isnull().sum()"
   ]
  },
  {
   "cell_type": "code",
   "execution_count": 10,
   "metadata": {},
   "outputs": [],
   "source": [
    "new_df.x=new_df.x.apply(lambda v: v if qdf.x[low]< v < qdf.x[high] else np.nan)"
   ]
  },
  {
   "cell_type": "code",
   "execution_count": 11,
   "metadata": {},
   "outputs": [],
   "source": [
    "new_df.y=new_df.y.apply(lambda v: v if qdf.y[low]< v < qdf.y[high] else np.nan)"
   ]
  },
  {
   "cell_type": "code",
   "execution_count": 12,
   "metadata": {},
   "outputs": [],
   "source": [
    "new_df.z=new_df.z.apply(lambda v: v if qdf.z[low]< v < qdf.z[high] else np.nan)"
   ]
  },
  {
   "cell_type": "code",
   "execution_count": 13,
   "metadata": {},
   "outputs": [
    {
     "data": {
      "text/plain": [
       "Subject_id            0\n",
       "Activity_label        0\n",
       "Time_stamp            0\n",
       "x                 68808\n",
       "y                 68808\n",
       "z                 68808\n",
       "dtype: int64"
      ]
     },
     "execution_count": 13,
     "metadata": {},
     "output_type": "execute_result"
    }
   ],
   "source": [
    "new_df.isnull().sum()"
   ]
  },
  {
   "cell_type": "code",
   "execution_count": 14,
   "metadata": {},
   "outputs": [],
   "source": [
    "new_df.dropna(inplace=True)"
   ]
  },
  {
   "cell_type": "code",
   "execution_count": 15,
   "metadata": {},
   "outputs": [
    {
     "data": {
      "text/plain": [
       "Subject_id        0\n",
       "Activity_label    0\n",
       "Time_stamp        0\n",
       "x                 0\n",
       "y                 0\n",
       "z                 0\n",
       "dtype: int64"
      ]
     },
     "execution_count": 15,
     "metadata": {},
     "output_type": "execute_result"
    }
   ],
   "source": [
    "new_df.isnull().sum()"
   ]
  },
  {
   "cell_type": "code",
   "execution_count": 16,
   "metadata": {},
   "outputs": [],
   "source": [
    "X = np.array(new_df.drop(['Activity_label'],axis=1))\n",
    "y = np.array(new_df['Activity_label'])"
   ]
  },
  {
   "cell_type": "code",
   "execution_count": 17,
   "metadata": {},
   "outputs": [],
   "source": [
    "X_train, X_test, y_train, y_test = train_test_split(X,y,random_state=1,test_size=0.2)"
   ]
  },
  {
   "cell_type": "code",
   "execution_count": 18,
   "metadata": {},
   "outputs": [],
   "source": [
    "clf = DecisionTreeClassifier()"
   ]
  },
  {
   "cell_type": "code",
   "execution_count": 19,
   "metadata": {},
   "outputs": [],
   "source": [
    "clf = clf.fit(X_train,y_train)"
   ]
  },
  {
   "cell_type": "code",
   "execution_count": 20,
   "metadata": {},
   "outputs": [],
   "source": [
    "y_pred = clf.predict(X_test)"
   ]
  },
  {
   "cell_type": "code",
   "execution_count": 21,
   "metadata": {},
   "outputs": [
    {
     "name": "stdout",
     "output_type": "stream",
     "text": [
      "Accuracy: 0.9850728934258381\n"
     ]
    }
   ],
   "source": [
    "print(\"Accuracy:\",metrics.accuracy_score(y_test, y_pred))"
   ]
  },
  {
   "cell_type": "code",
   "execution_count": 22,
   "metadata": {},
   "outputs": [
    {
     "name": "stdout",
     "output_type": "stream",
     "text": [
      "[[35118   301    93     6    15     2    14     4     4    12     5     3\n",
      "     47    68    34     4    10    22]\n",
      " [  348 29182    50     8     6     3    13     7     3    10     1    11\n",
      "     71    83    79     6    15    34]\n",
      " [   83    50 33965    22     7     8    38    25    31    22     6    11\n",
      "     60    50    65    12    20    84]\n",
      " [    7    18    25 38848   161    21     4     6    13     9    18    10\n",
      "     11    12     6    31    50    51]\n",
      " [    5    21     8   102 38362    46    10    13     7    11    25    10\n",
      "      5     1     6    48    90    78]\n",
      " [    7     6     8    21    28 37263    33     4    15    15     7     8\n",
      "      2     4     5    84    31    61]\n",
      " [    8    12    38    14     9    28 37528    21    30    17    22    26\n",
      "     12     7     7    30    74   124]\n",
      " [    0    11    19     2     8     7    36 36996    39    71    50    38\n",
      "     14     5     9     6     5    31]\n",
      " [    7     7    33     4    18     9    27    23 37997    59    46    78\n",
      "      9     9    10    28    33    47]\n",
      " [    5     8    15     4     4     8    21    65    54 37439    19    48\n",
      "      3     3     8    14     5    23]\n",
      " [    4     1    18    16    25    11    26    49    41    17 39096    55\n",
      "      5     8    11    12    26    36]\n",
      " [    7    10    26     5     4    11    24    32    98    62    29 37297\n",
      "      8    10    16    14    22    33]\n",
      " [   59    77    57    12     8     0     5    11    15     5     7    14\n",
      "  35401   372   126     7    12    21]\n",
      " [   64    70    23    11     6     3    11     5    11     9    13    10\n",
      "    436 29424   173     9    17    26]\n",
      " [   53    94    66     5     8     5     4     7     7     4    16     7\n",
      "    200   179 27934     4    15    28]\n",
      " [   13     3     9    21    29    82    34    11    29    15    16    17\n",
      "     14     5     7 39249    76    56]\n",
      " [   18    23    24    38    62    24    86    13    34    11    22    16\n",
      "      8    23    18    48 37113   161]\n",
      " [   25    33    60    37    61    24    84    18    34    26    14    23\n",
      "     36    25    33    41   101 36400]]\n",
      "              precision    recall  f1-score   support\n",
      "\n",
      "           A       0.98      0.98      0.98     35762\n",
      "           B       0.98      0.98      0.98     29930\n",
      "           C       0.98      0.98      0.98     34559\n",
      "           D       0.99      0.99      0.99     39301\n",
      "           E       0.99      0.99      0.99     38848\n",
      "           F       0.99      0.99      0.99     37602\n",
      "           G       0.99      0.99      0.99     38007\n",
      "           H       0.99      0.99      0.99     37347\n",
      "           I       0.99      0.99      0.99     38444\n",
      "           J       0.99      0.99      0.99     37746\n",
      "           K       0.99      0.99      0.99     39457\n",
      "           L       0.99      0.99      0.99     37708\n",
      "           M       0.97      0.98      0.98     36209\n",
      "           O       0.97      0.97      0.97     30321\n",
      "           P       0.98      0.98      0.98     28636\n",
      "           Q       0.99      0.99      0.99     39686\n",
      "           R       0.98      0.98      0.98     37742\n",
      "           S       0.98      0.98      0.98     37075\n",
      "\n",
      "    accuracy                           0.99    654380\n",
      "   macro avg       0.98      0.98      0.98    654380\n",
      "weighted avg       0.99      0.99      0.99    654380\n",
      "\n",
      "0.9850728934258381\n"
     ]
    }
   ],
   "source": [
    "print(confusion_matrix(y_test,y_pred))\n",
    "print(classification_report(y_test,y_pred))\n",
    "print(accuracy_score(y_test, y_pred))"
   ]
  },
  {
   "cell_type": "code",
   "execution_count": null,
   "metadata": {},
   "outputs": [],
   "source": []
  }
 ],
 "metadata": {
  "kernelspec": {
   "display_name": "Python 3",
   "language": "python",
   "name": "python3"
  },
  "language_info": {
   "codemirror_mode": {
    "name": "ipython",
    "version": 3
   },
   "file_extension": ".py",
   "mimetype": "text/x-python",
   "name": "python",
   "nbconvert_exporter": "python",
   "pygments_lexer": "ipython3",
   "version": "3.7.6"
  }
 },
 "nbformat": 4,
 "nbformat_minor": 4
}
